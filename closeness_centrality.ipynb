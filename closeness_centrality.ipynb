{
 "cells": [
  {
   "cell_type": "code",
   "execution_count": 27,
   "id": "fbc56d08",
   "metadata": {},
   "outputs": [],
   "source": [
    "import networkx as nx\n",
    "import numpy as np\n",
    "import random as rnd"
   ]
  },
  {
   "cell_type": "code",
   "execution_count": 28,
   "id": "98e5a02d",
   "metadata": {},
   "outputs": [],
   "source": [
    "# Define the values that can be adjusted for creating the adjacency matrix\n",
    "x = 1000\n",
    "y = rnd.randint(1,(x-1))\n",
    "z =(x-y-1)"
   ]
  },
  {
   "cell_type": "code",
   "execution_count": 29,
   "id": "3b0a1b63",
   "metadata": {},
   "outputs": [],
   "source": [
    "# Create an adjacency matrix\n",
    "A = np.random.randint(2, size=(x,1))\n",
    "B = np.random.randint(2, size=(x, y))\n",
    "C = np.random.randint(2, size=(x, z))\n",
    "D = np.concatenate((B,A), axis=1)\n",
    "M = np.concatenate((D,C), axis=1)"
   ]
  },
  {
   "cell_type": "code",
   "execution_count": 30,
   "id": "427bd850",
   "metadata": {},
   "outputs": [],
   "source": [
    "# Get rid of self loops as in social network no one follows oneself\n",
    "for i in range(x):\n",
    "    if M[i][i]==1:\n",
    "        M[i][i]=0"
   ]
  },
  {
   "cell_type": "code",
   "execution_count": 31,
   "id": "c98ea9a1",
   "metadata": {},
   "outputs": [],
   "source": [
    "# Create a undirected graph from an adjacency matrix\n",
    "I = nx.Graph()\n",
    "G=nx.from_numpy_matrix(M, create_using=I)"
   ]
  },
  {
   "cell_type": "code",
   "execution_count": 32,
   "id": "d8a9327f",
   "metadata": {},
   "outputs": [
    {
     "name": "stdout",
     "output_type": "stream",
     "text": [
      "The results for undirected graph created from the adjacency matrix:\n",
      "\n",
      "The node with highest closeness centrality is:  833  and the value is:  0.826 \n",
      "\n",
      "The node with lowest closeness centrality is:  766  and the value is:  0.771 \n",
      "\n"
     ]
    }
   ],
   "source": [
    "# Compute the closeness centrality of an undirected graph created from the adjacency matrix\n",
    "P = nx.closeness_centrality(G)\n",
    "print(\"The results for undirected graph created from the adjacency matrix:\\n\")\n",
    "print(\"The node with highest closeness centrality is: \", max(P, key=P.get),\" and the value is: \", round(max(P.values()),3),\"\\n\")\n",
    "print(\"The node with lowest closeness centrality is: \", min(P, key=P.get),\" and the value is: \", round(min(P.values()),3),\"\\n\")"
   ]
  },
  {
   "cell_type": "code",
   "execution_count": 33,
   "id": "f5d1a096",
   "metadata": {},
   "outputs": [],
   "source": [
    "# Create a directed graph from an adjacency matrix\n",
    "J = nx.DiGraph()\n",
    "H=nx.from_numpy_matrix(M, create_using=J)"
   ]
  },
  {
   "cell_type": "code",
   "execution_count": 34,
   "id": "0095793f",
   "metadata": {},
   "outputs": [
    {
     "name": "stdout",
     "output_type": "stream",
     "text": [
      "The results for directed graph created from the adjacency matrix:\n",
      "\n",
      "The node with highest closeness centrality is:  793  and the value is:  0.69 \n",
      "\n",
      "The node with lowest closeness centrality is:  685  and the value is:  0.645 \n",
      "\n"
     ]
    }
   ],
   "source": [
    "# Compute the closeness centrality of an directed graph created from the adjacency matrix\n",
    "Q = nx.closeness_centrality(H)\n",
    "print(\"The results for directed graph created from the adjacency matrix:\\n\")\n",
    "print(\"The node with highest closeness centrality is: \", max(Q, key=Q.get),\" and the value is: \", round(max(Q.values()),3),\"\\n\")\n",
    "print(\"The node with lowest closeness centrality is: \", min(Q, key=Q.get),\" and the value is: \", round(min(Q.values()),3),\"\\n\")"
   ]
  }
 ],
 "metadata": {
  "kernelspec": {
   "display_name": "Python 3 (ipykernel)",
   "language": "python",
   "name": "python3"
  },
  "language_info": {
   "codemirror_mode": {
    "name": "ipython",
    "version": 3
   },
   "file_extension": ".py",
   "mimetype": "text/x-python",
   "name": "python",
   "nbconvert_exporter": "python",
   "pygments_lexer": "ipython3",
   "version": "3.9.13"
  }
 },
 "nbformat": 4,
 "nbformat_minor": 5
}
