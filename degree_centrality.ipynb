{
 "cells": [
  {
   "cell_type": "code",
   "execution_count": 453,
   "id": "29921401",
   "metadata": {},
   "outputs": [],
   "source": [
    "import networkx as nx\n",
    "import numpy as np\n",
    "import random as rnd"
   ]
  },
  {
   "cell_type": "code",
   "execution_count": 454,
   "id": "d079f028",
   "metadata": {},
   "outputs": [],
   "source": [
    "# Define the values that can be adjusted for creating the adjacency matrix\n",
    "x = 1000\n",
    "y = rnd.randint(1,(x-1))\n",
    "z =(x-y-1)"
   ]
  },
  {
   "cell_type": "code",
   "execution_count": 455,
   "id": "6e8fa52c",
   "metadata": {},
   "outputs": [],
   "source": [
    "# Create an adjacency matrix\n",
    "A = np.random.randint(2, size=(x,1))\n",
    "B = np.random.randint(2, size=(x, y))\n",
    "C = np.random.randint(2, size=(x, z))\n",
    "D = np.concatenate((B,A), axis=1)\n",
    "M = np.concatenate((D,C), axis=1)"
   ]
  },
  {
   "cell_type": "code",
   "execution_count": 456,
   "id": "de77024b",
   "metadata": {},
   "outputs": [],
   "source": [
    "# Get rid of self loops as in social network no one follows oneself\n",
    "for i in range(x):\n",
    "    if M[i][i]==1:\n",
    "        M[i][i]=0"
   ]
  },
  {
   "cell_type": "code",
   "execution_count": 457,
   "id": "b6c20b80",
   "metadata": {},
   "outputs": [],
   "source": [
    "# Create a directed graph from an adjacency matrix\n",
    "I = nx.DiGraph()\n",
    "G=nx.from_numpy_matrix(M, create_using=I)"
   ]
  },
  {
   "cell_type": "code",
   "execution_count": 458,
   "id": "db3c003a",
   "metadata": {},
   "outputs": [
    {
     "name": "stdout",
     "output_type": "stream",
     "text": [
      "The node with maximum degree is:  104  and the value of in-degree is:  0.55 \n",
      "\n",
      "The node with minimum degree is:  117  and the value of in-degree is:  0.437 \n",
      "\n"
     ]
    }
   ],
   "source": [
    "# Compute the in-degree for the graph/network and output the node having maximum & minimum in-degree\n",
    "P = nx.in_degree_centrality(G)\n",
    "print(\"The node with maximum degree is: \", max(P, key=P.get),\" and the value of in-degree is: \", round(max(P.values()),3),\"\\n\")\n",
    "print(\"The node with minimum degree is: \", min(P, key=P.get),\" and the value of in-degree is: \", round(min(P.values()),3),\"\\n\")"
   ]
  }
 ],
 "metadata": {
  "kernelspec": {
   "display_name": "Python 3 (ipykernel)",
   "language": "python",
   "name": "python3"
  },
  "language_info": {
   "codemirror_mode": {
    "name": "ipython",
    "version": 3
   },
   "file_extension": ".py",
   "mimetype": "text/x-python",
   "name": "python",
   "nbconvert_exporter": "python",
   "pygments_lexer": "ipython3",
   "version": "3.9.13"
  }
 },
 "nbformat": 4,
 "nbformat_minor": 5
}
